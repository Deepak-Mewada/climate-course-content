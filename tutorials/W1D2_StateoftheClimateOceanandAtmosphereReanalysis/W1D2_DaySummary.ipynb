{
 "cells": [
  {
   "cell_type": "markdown",
   "id": "56915a50",
   "metadata": {},
   "source": [
    "# Day Summary"
   ]
  },
  {
   "cell_type": "markdown",
   "id": "e96747c7",
   "metadata": {},
   "source": [
    "Day 2 explored the complex interplay between the ocean and atmosphere within the climate system. You began the day with an exploration of SST variations during El Niño and La Niña events, utilizing Xarray tools and the CESM2 model data. You then worked with ECMWF's ERA5 and ECCO reanalysis data to explore the time scales of important variables as well as the large-scale circulation of the atmosphere and ocean and its interaction, for the latter both the wind-driven and density-driven aspects. Lastly, you explored the changes in ocean heat storage over recent decades as a bonus."
   ]
  }
 ],
 "metadata": {
  "kernelspec": {
   "display_name": "Python 3 (ipykernel)",
   "language": "python",
   "name": "python3"
  },
  "language_info": {
   "codemirror_mode": {
    "name": "ipython",
    "version": 3
   },
   "file_extension": ".py",
   "mimetype": "text/x-python",
   "name": "python",
   "nbconvert_exporter": "python",
   "pygments_lexer": "ipython3",
   "version": "3.9.18"
  }
 },
 "nbformat": 4,
 "nbformat_minor": 5
}
