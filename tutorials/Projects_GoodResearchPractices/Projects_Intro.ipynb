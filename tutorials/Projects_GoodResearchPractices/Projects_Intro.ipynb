{
 "cells": [
  {
   "cell_type": "markdown",
   "id": "4439da88",
   "metadata": {
    "execution": {}
   },
   "source": [
    "# Intro"
   ]
  },
  {
   "cell_type": "markdown",
   "id": "60f237f1",
   "metadata": {
    "execution": {}
   },
   "source": [
    "## Overview"
   ]
  },
  {
   "cell_type": "markdown",
   "id": "077e2215",
   "metadata": {
    "execution": {}
   },
   "source": [
    "This tutorial is all about the research process from concept to conclusion. We will walk you through the thinking process behind scientific research and some tools that will help you as you think through your own projects. The first half will focus on the process of planning a research project. In Step 1, we will walk you through how to ask a good research question. Step 2 will explain the goals of the literature review process. Step 3 will introduce you to the wide range of datasets used in climate science and give an introduction to when you might use some of them. Step 4 will explain how to develop a robust hypothesis based on the resources available.\n",
    "\n",
    "The second half will focus on data analysis and communicating your results. Step 5 will guide you through drafting the analysis, and at Step 6 we will implement a sample analysis. Step 7 will explain what to take into consideration when interpreting your results. Finally, Step 8 will talk you through how to communicate your conclusions to different audiences. We hope that after this tutorial, you will have a better understanding of how to complete research that is clearly motivated and rigorously supported.\n"
   ]
  },
  {
   "cell_type": "markdown",
   "id": "01f5b2db-5c99-4d8c-ab4f-b74b1b5750fe",
   "metadata": {},
   "source": [
    "## Day Learning Objectives"
   ]
  },
  {
   "cell_type": "markdown",
   "id": "6aeeb24a-ef31-4194-b892-9c8cd280c760",
   "metadata": {},
   "source": [
    "1. Understand the principles of good research practice\n",
    "2. Learn to view a scientific data set or question through the lens of equity: Who is represented by this data and who is not? Who has access to this information? Who is in a position to use it?\n"
   ]
  }
 ],
 "metadata": {
  "colab": {
   "collapsed_sections": [],
   "include_colab_link": true,
   "name": "Projects_Intro",
   "toc_visible": true
  },
  "kernel": {
   "display_name": "Python 3",
   "language": "python",
   "name": "python3"
  },
  "kernelspec": {
   "display_name": "Python 3 (ipykernel)",
   "language": "python",
   "name": "python3"
  },
  "language_info": {
   "codemirror_mode": {
    "name": "ipython",
    "version": 3
   },
   "file_extension": ".py",
   "mimetype": "text/x-python",
   "name": "python",
   "nbconvert_exporter": "python",
   "pygments_lexer": "ipython3",
   "version": "3.9.18"
  }
 },
 "nbformat": 4,
 "nbformat_minor": 5
}
