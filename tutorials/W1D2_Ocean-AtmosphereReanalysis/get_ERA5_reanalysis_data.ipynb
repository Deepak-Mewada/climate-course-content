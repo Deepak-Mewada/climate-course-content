{
 "cells": [
  {
   "cell_type": "markdown",
   "id": "0ea0e24d-c94e-4564-a259-c397aa887e91",
   "metadata": {},
   "source": [
    "# Load ERA5 Reanalysis Data via the CDS API\n",
    "\n",
    "The code in this notebook was used to create the input data for Tutorial 2 using the ERA5 Reanalysis dataset computed by the European Copernicus Copernicus Climate Change Service (C3S) [Climate Data Store (CDS)](https://cds.climate.copernicus.eu/#!/home). It is provided here to give a better idea of how climate data can be obtained, in this case through an [API](https://cds.climate.copernicus.eu/api-how-to). CDS's machinery of working with Reanalysis (and other) data is very powerful and immensely useful. It was decided to download the data separately and load it from OSF in Tutorial 2 as it is not necessary (and too time-consuming) for every participant to sign up for an account and run this operation, unnecessarily using computing resources and blocking queues. \n",
    "\n",
    "Nevertheless, this is the way you can access large amounts of data assimilation (measurement-model) output that has been stored in the cloud. This is very useful to get easy access to such information. Feel free to modify the code to access different data and address your research questions.\n",
    "\n",
    "Before accessing data this way, please familiarize yourself with the CDS API documentation and resources linked within this notebook and listed at the end. \n",
    "\n",
    "This code works by setting up a rather large query, resulting in a download that is possible after creating a personal account. The actual computation is triggered by running the last cell of this section.\n",
    "\n",
    "Please DO NOT simply run it straightaway after modifications, the code takes quite a long time to run depending on the number of variables as well as temporal and spatial resolution, and thereby uses significant computing resources. Think first about what is it that you need.\n",
    "\n",
    "However, our example can give you a good idea of what data can be accessed via the CDS API, and Tutorial 2 of what can be done with it. \n",
    "\n",
    "Get excited, go explore, have fun!"
   ]
  },
  {
   "cell_type": "markdown",
   "id": "6d2e6e35-1965-439d-97aa-0608dd46a3bc",
   "metadata": {},
   "source": [
    "## Prerequisites\n",
    "\n",
    "We assume that you have installed all Python libraries that are necessary to build this course's book or to execute it via Colab or Kaggle, such that you have ```cdsapi``` installed already. First, you have to sign up for an account at the [Copernicus Climate Data Store](https://cds.climate.copernicus.eu/user/register) and accept the Copernicus license by creating a test download using the CDS Download web form interface. For more details [click here](https://confluence.ecmwf.int/display/CKB/How+to+download+ERA5#heading-3-DownloadingonlineERA5familydatathroughtheCDSwebinterface).\n"
   ]
  },
  {
   "cell_type": "code",
   "execution_count": null,
   "id": "a4cf01ac-f46f-45da-b6fe-0e1701200ff0",
   "metadata": {},
   "outputs": [],
   "source": [
    "# Import the Copernicus cdsapi package\n",
    "import cdsapi"
   ]
  },
  {
   "cell_type": "markdown",
   "id": "1d1066cf-f252-48c9-bd87-0a54c7e0fbf0",
   "metadata": {},
   "source": [
    " We now retrieve the data by choosing a data set, i.e. ```reanalysis-era5-single-levels```;\n",
    " our variables of interest\n",
    "```\n",
    "'10m_u_component_of_wind',\n",
    "'10m_v_component_of_wind',\n",
    "'2m_temperature',\n",
    "'sea_surface_temperature',\n",
    "'surface_pressure';\n",
    "```\n",
    "a year, i.e. ```2018```;\n",
    "a month, i.e. March ```03```;\n",
    "all days of this month ```01-31```; all hours of these days ```00:00-23:00```; the area of interest, i.e. longitude (```-90``` to ```-65```) and latitude (```30.2``` to ```55.2```); and finally the format, i.e. ```netcdf```. In summary, this results in a file of the size of 72 MB, while we only sliced one month of data in a smaller subregion. So be aware of modifying it to larger data sets, as this might crash your computer. \n",
    "\n",
    "Note that we did not write this ```retrieve()``` table on our own but copied the script that is shown once you have selected everything in the web [interface of CDS](https://cds.climate.copernicus.eu/cdsapp#!/dataset/reanalysis-era5-single-levels?tab=form) in the ***Download data*** tab and clicked on ***Show API Request***.\n",
    "\n",
    "Please also note that this data retrieval can sometimes take up to 24 hours, in reality, our experience shows a queue time of about an hour. The file ```download_month.nc``` is saved in your working directory but you can specify the path here if needed."
   ]
  },
  {
   "cell_type": "code",
   "execution_count": null,
   "id": "45b705ae-9933-4f4c-a3dc-3548f8a41594",
   "metadata": {},
   "outputs": [],
   "source": [
    "c = cdsapi.Client()\n",
    "\n",
    "res = c.retrieve(\n",
    "    'reanalysis-era5-single-levels',\n",
    "    {\n",
    "        'product_type': 'reanalysis',\n",
    "        'variable': [\n",
    "            '10m_u_component_of_wind', '10m_v_component_of_wind', '2m_temperature',\n",
    "            'sea_surface_temperature', 'surface_pressure',\n",
    "        ],\n",
    "        'year': '2018',\n",
    "        'month': '03',\n",
    "        'day': [\n",
    "            '01', '02', '03',\n",
    "            '04', '05', '06',\n",
    "            '07', '08', '09',\n",
    "            '10', '11', '12',\n",
    "            '13', '14', '15',\n",
    "            '16', '17', '18',\n",
    "            '19', '20', '21',\n",
    "            '22', '23', '24',\n",
    "            '25', '26', '27',\n",
    "            '28', '29', '30',\n",
    "            '31',\n",
    "        ],\n",
    "        'time': [\n",
    "            '00:00', '01:00', '02:00',\n",
    "            '03:00', '04:00', '05:00',\n",
    "            '06:00', '07:00', '08:00',\n",
    "            '09:00', '10:00', '11:00',\n",
    "            '12:00', '13:00', '14:00',\n",
    "            '15:00', '16:00', '17:00',\n",
    "            '18:00', '19:00', '20:00',\n",
    "            '21:00', '22:00', '23:00',\n",
    "        ],\n",
    "        'area': [\n",
    "            55.2, -90, 30.2,\n",
    "            -65,\n",
    "        ],\n",
    "        'format': 'netcdf',\n",
    "    },\n",
    "    'download_month.nc')"
   ]
  },
  {
   "cell_type": "code",
   "execution_count": null,
   "id": "301328d1-cf3c-47d4-8191-dbd4bcc498a9",
   "metadata": {},
   "outputs": [],
   "source": [
    "# We follow https://confluence.ecmwf.int/display/CKB/How+to+download+ERA5 after Signing up for CDS via"
   ]
  },
  {
   "cell_type": "markdown",
   "id": "a627e3ca-37b4-4a64-a841-b1d0f411856c",
   "metadata": {},
   "source": [
    "## Selecting a Different Spatial Region\n",
    "\n",
    "Define another spatial region, such as where you live, by selecting a longitude and latitude range of your choice. To find the longitude and latitude coordinates of your region, you can use [Google Earth view](https://earth.google.com/), and read the position of your cursor in the lower right corner.\n",
    "\n",
    "### Note About the Geographic Coordinate System and the Coordinates Used in This Dataset\n",
    "A point on Earth is described by latitude-longitude coordinates relative to the zero-meridian line going through Greenwich in London, UK (longitude = 0 degree) and the xero-latitude line along the equator (latitude = 0 degrees). Points east of Greenwich up to the *dateline* on the opposite side of the globe are referenced as 0 to +180 and points to the west of Greenwich are 0 to -180. -180 and +180 refer to the same longitude, the so-called *dateline* in the central Pacific. \n",
    "\n",
    "However, some data is referenced in a slightly different way where longitude runs from 0 to 360 rather than -180 to +180. Longitude increases as you move east of Greenwich, until you reach Greenwich again (0 or 360 degrees), rather than stopping at the *dateline*. "
   ]
  },
  {
   "cell_type": "markdown",
   "id": "875cfd11-cce0-4e84-9744-192f7a3765f9",
   "metadata": {},
   "source": [
    "## Helpful resources\n",
    "\n",
    "This bonus script is added for completeness and follows many great tutorials as well as other documentation that already exists out there. Please have a look at the following list that mentions a few:\n",
    "\n",
    "How to use the CDS API:\n",
    "- [https://cds.climate.copernicus.eu/api-how-to](https://cds.climate.copernicus.eu/api-how-to)\n",
    "- [https://confluence.ecmwf.int/display/CKB/How+to+download+ERA5](https://confluence.ecmwf.int/display/CKB/How+to+download+ERA5)\n",
    "- [https://fanwangecon.github.io/Py4Econ/getdata/envir/htmlpdfr/fs_ecmwf.html](https://fanwangecon.github.io/Py4Econ/getdata/envir/htmlpdfr/fs_ecmwf.html)\n",
    "\n",
    "How to register:\n",
    "- [https://cds.climate.copernicus.eu/user/register](https://cds.climate.copernicus.eu/user/register)\n",
    "\n",
    "The Data\n",
    "- [https://cds.climate.copernicus.eu/cdsapp#!/dataset/reanalysis-era5-single-levels?tab=overview](https://cds.climate.copernicus.eu/cdsapp#!/dataset/reanalysis-era5-single-levels?tab=overview)\n",
    "- [https://cds.climate.copernicus.eu/#!/home](https://cds.climate.copernicus.eu/#!/home)"
   ]
  }
 ],
 "metadata": {
  "kernelspec": {
   "display_name": "Python 3 (ipykernel)",
   "language": "python",
   "name": "python3"
  },
  "language_info": {
   "codemirror_mode": {
    "name": "ipython",
    "version": 3
   },
   "file_extension": ".py",
   "mimetype": "text/x-python",
   "name": "python",
   "nbconvert_exporter": "python",
   "pygments_lexer": "ipython3",
   "version": "3.9.18"
  }
 },
 "nbformat": 4,
 "nbformat_minor": 5
}
